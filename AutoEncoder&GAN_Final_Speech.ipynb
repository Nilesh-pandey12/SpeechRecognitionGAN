{
  "nbformat": 4,
  "nbformat_minor": 0,
  "metadata": {
    "colab": {
      "provenance": []
    },
    "kernelspec": {
      "name": "python3",
      "display_name": "Python 3"
    },
    "language_info": {
      "name": "python"
    }
  },
  "cells": [
    {
      "cell_type": "markdown",
      "source": [
        "**Importation of the important librairies**"
      ],
      "metadata": {
        "id": "P72b5B0SutmA"
      }
    },
    {
      "cell_type": "code",
      "execution_count": 1,
      "metadata": {
        "id": "Q6uYK0S1uez0"
      },
      "outputs": [],
      "source": [
        "import torch\n",
        "import os\n",
        "import glob\n",
        "import librosa\n",
        "import numpy as np\n",
        "import pandas as pd\n",
        "import torch.nn as nn\n",
        "import torch.optim as optim\n",
        "from tqdm import tqdm\n",
        "from torch.utils.data import DataLoader, Dataset\n",
        "from torchvision.transforms import ToTensor\n",
        "from torchvision import transforms\n"
      ]
    },
    {
      "cell_type": "code",
      "source": [
        "from google.colab import drive\n",
        "drive.mount('/content/drive')"
      ],
      "metadata": {
        "colab": {
          "base_uri": "https://localhost:8080/"
        },
        "id": "gg10M9SZzYVu",
        "outputId": "44bc886e-df37-4adc-f873-6662425ff949"
      },
      "execution_count": 2,
      "outputs": [
        {
          "output_type": "stream",
          "name": "stdout",
          "text": [
            "Mounted at /content/drive\n"
          ]
        }
      ]
    },
    {
      "cell_type": "markdown",
      "source": [
        "# **Data preprocessing**"
      ],
      "metadata": {
        "id": "cqnCztZhvBKt"
      }
    },
    {
      "cell_type": "code",
      "source": [
        "import os\n",
        "import requests\n",
        "import tarfile\n",
        "\n",
        "def download_librispeech(data_dir):\n",
        "    # Create the data directory if it does not exist\n",
        "    os.makedirs(data_dir, exist_ok=True)\n",
        "\n",
        "    # Define the URLs for LibriSpeech datasets\n",
        "    url_train = \"https://www.openslr.org/resources/12/dev-clean.tar.gz\"\n",
        "    url_test = \"https://www.openslr.org/resources/12/test-clean.tar.gz\"\n",
        "\n",
        "    # Download and extract the train dataset\n",
        "    train_file = os.path.join(data_dir, \"train-clean-100.tar.gz\")\n",
        "    if not os.path.exists(train_file):\n",
        "        print(\"Downloading train dataset...\")\n",
        "        with open(train_file, \"wb\") as f:\n",
        "            response = requests.get(url_train)\n",
        "            f.write(response.content)\n",
        "\n",
        "    with tarfile.open(train_file, \"r:gz\") as tar:\n",
        "        tar.extractall(path=data_dir)\n",
        "\n",
        "    # Download and extract the test dataset\n",
        "    test_file = os.path.join(data_dir, \"test-clean.tar.gz\")\n",
        "    if not os.path.exists(test_file):\n",
        "        print(\"Downloading test dataset...\")\n",
        "        with open(test_file, \"wb\") as f:\n",
        "            response = requests.get(url_test)\n",
        "            f.write(response.content)\n",
        "\n",
        "    with tarfile.open(test_file, \"r:gz\") as tar:\n",
        "        tar.extractall(path=data_dir)\n",
        "\n",
        "    print(\"LibriSpeech dataset downloaded and extracted successfully.\")\n",
        "\n",
        "# Define the directory where you want to store the LibriSpeech dataset\n",
        "data_directory = \"/content/drive/MyDrive/Librispeechdatatset\"\n",
        "\n",
        "# Download the dataset\n",
        "download_librispeech(data_directory)\n"
      ],
      "metadata": {
        "colab": {
          "base_uri": "https://localhost:8080/"
        },
        "id": "nOPv3Ia-vE17",
        "outputId": "5f9ffe71-d45c-47bc-c99f-4769e7a4a674"
      },
      "execution_count": null,
      "outputs": [
        {
          "output_type": "stream",
          "name": "stdout",
          "text": [
            "Downloading train dataset...\n",
            "Downloading test dataset...\n",
            "LibriSpeech dataset downloaded and extracted successfully.\n"
          ]
        }
      ]
    },
    {
      "cell_type": "markdown",
      "source": [
        "### **Accessing the .flac audio files and converting them to .npy**"
      ],
      "metadata": {
        "id": "qTY6QUyXnPzX"
      }
    },
    {
      "cell_type": "code",
      "source": [
        "\n",
        "import os\n",
        "import librosa\n",
        "import pandas as pd\n",
        "import numpy as np\n",
        "\n",
        "def load_audio(file_path, target_sampling_rate=16000):\n",
        "    audio, sr = librosa.load(file_path, sr=target_sampling_rate)\n",
        "    return audio, sr\n",
        "\n",
        "def extract_mfcc(audio, sr, n_mfcc=13):\n",
        "    mfccs = librosa.feature.mfcc(y=audio, sr=sr, n_mfcc=n_mfcc)\n",
        "    return mfccs\n",
        "\n",
        "\n",
        "# Replace 'your_dataset_directory' with the path to the LibriSpeech dataset\n",
        "dataset_directory = '/content/drive/MyDrive/Librispeechdatatset/LibriSpeech'\n",
        "\n",
        "# Loop through 'dev-clean' and 'test-clean' subsets\n",
        "subsets = ['dev-clean', 'test-clean']\n",
        "\n",
        "for subset in subsets:\n",
        "    subset_path = os.path.join(dataset_directory, subset)\n",
        "    # print(subset_path,\"hii0\")\n",
        "\n",
        "    # Loop through speaker directories\n",
        "    for speaker_dir in os.listdir(subset_path):\n",
        "        speaker_path = os.path.join(subset_path, speaker_dir)\n",
        "        # print(speaker_path,\"hii1\")\n",
        "        # print(speaker_dir,\"hii2\")\n",
        "\n",
        "        for audio_file in os.listdir(speaker_path):\n",
        "            audio_path = os.path.join(speaker_path, audio_file)\n",
        "\n",
        "\n",
        "            for audio_file_name in os.listdir(audio_path):\n",
        "              if audio_file_name.endswith('.flac'):\n",
        "                # print(audio_file_name, \"hii3\")\n",
        "\n",
        "                # Load and process audio\n",
        "                audio, sr = load_audio(os.path.join(audio_path, audio_file_name))\n",
        "                mfccs = extract_mfcc(audio, sr)\n",
        "\n",
        "                np.save(f'{audio_path}/{audio_file_name}_mfcc.npy', mfccs)\n",
        "                # Process the corresponding transcription file\n",
        "                # transcription_file = audio_file_name.replace('.flac', '.trans.txt')\n",
        "                # # print(audio_path,\"/\",speaker_dir,\"-\",audio_file,\"_trans.txt\")\n",
        "                # transcription = load_transcription(os.path.join(audio_path, transcription_file))\n",
        "                # print(transcription)\n",
        "                # Save the transformed data (you can adjust the save paths as needed)\n",
        "\n",
        "                # with open(f'{audio_path}/{speaker_dir}\"-\"{audio_file}_trans.txt', 'w') as file:\n",
        "                #     file.write(transcription)\n"
      ],
      "metadata": {
        "id": "lMvgPT1EbNao"
      },
      "execution_count": null,
      "outputs": []
    },
    {
      "cell_type": "markdown",
      "source": [
        "### **Transforming the dataset using dataloader**"
      ],
      "metadata": {
        "id": "5Bs9Rr01nZvZ"
      }
    },
    {
      "cell_type": "code",
      "source": [
        "# Custom dataset class to load MFCC data from .npy files\n",
        "class MFCCDataset(Dataset):\n",
        "    def __init__(self, dataset_directory, max_seq_len):\n",
        "        self.data = []\n",
        "        self.max_seq_len = max_seq_len\n",
        "\n",
        "        subsets = ['dev-clean', 'test-clean']\n",
        "        for subset in subsets:\n",
        "            subset_path = os.path.join(dataset_directory, subset)\n",
        "\n",
        "            # Loop through speaker directories\n",
        "            for speaker_dir in os.listdir(subset_path):\n",
        "                speaker_path = os.path.join(subset_path, speaker_dir)\n",
        "\n",
        "                for audio_file in os.listdir(speaker_path):\n",
        "                    audio_path = os.path.join(speaker_path, audio_file)\n",
        "\n",
        "                    for audio_file_name in os.listdir(audio_path):\n",
        "                        if audio_file_name.endswith('.npy'):\n",
        "                            # Load MFCC data from the .npy file\n",
        "                            mfcc_data = np.load(os.path.join(audio_path, audio_file_name))\n",
        "                            # Pad the MFCC sequence to a fixed length\n",
        "                            mfcc_data = self.pad_sequence(mfcc_data, max_seq_len)\n",
        "                            self.data.append(mfcc_data)\n",
        "\n",
        "        # Convert the list to a tensor after all data is collected\n",
        "        self.data = torch.tensor(self.data).float()\n",
        "\n",
        "    def pad_sequence(self, sequence, max_seq_len):\n",
        "        # Pad or truncate the sequence to max_seq_len\n",
        "        if len(sequence[0]) < max_seq_len:\n",
        "            sequence = np.pad(sequence, ((0, 0), (0, max_seq_len - len(sequence[0]))), mode='constant')\n",
        "        elif len(sequence[0]) > max_seq_len:\n",
        "            sequence = sequence[:, :max_seq_len]\n",
        "        return sequence\n",
        "\n",
        "    def __len__(self):\n",
        "        return len(self.data)\n",
        "\n",
        "    def __getitem__(self, idx):\n",
        "        return self.data[idx]\n",
        "\n",
        "# Set the path to the directory containing the .npy files\n",
        "npy_directory = '/content/drive/MyDrive/Librispeechdatatset/LibriSpeech'\n",
        "\n",
        "# Set the maximum sequence length for padding\n",
        "max_seq_len = 176\n",
        "\n",
        "# Load the dataset\n",
        "dataset = MFCCDataset(npy_directory, max_seq_len)"
      ],
      "metadata": {
        "id": "vqzhVmtyP3jj",
        "colab": {
          "base_uri": "https://localhost:8080/"
        },
        "outputId": "daa85edc-eba9-471b-aa5b-5526f71652d9"
      },
      "execution_count": 3,
      "outputs": [
        {
          "output_type": "stream",
          "name": "stderr",
          "text": [
            "<ipython-input-3-f329c6e86c10>:27: UserWarning: Creating a tensor from a list of numpy.ndarrays is extremely slow. Please consider converting the list to a single numpy.ndarray with numpy.array() before converting to a tensor. (Triggered internally at ../torch/csrc/utils/tensor_new.cpp:245.)\n",
            "  self.data = torch.tensor(self.data).float()\n"
          ]
        }
      ]
    },
    {
      "cell_type": "markdown",
      "source": [
        "# **Auto Encoder Model**"
      ],
      "metadata": {
        "id": "wq8TjA-vuvI7"
      }
    },
    {
      "cell_type": "code",
      "source": [
        "\n",
        "# Autoencoder model definition\n",
        "class Autoencoder(nn.Module):\n",
        "    def __init__(self, input_dim, latent_dim):\n",
        "        super(Autoencoder, self).__init__()\n",
        "        self.encoder = nn.Sequential(\n",
        "            nn.Linear(input_dim, 128),\n",
        "            nn.ReLU(),\n",
        "            nn.Linear(128, latent_dim)\n",
        "        )\n",
        "        self.decoder = nn.Sequential(\n",
        "            nn.Linear(latent_dim, 128),\n",
        "            nn.ReLU(),\n",
        "            nn.Linear(128, input_dim),\n",
        "            nn.Sigmoid()\n",
        "        )\n",
        "\n",
        "    def forward(self, x):\n",
        "        encoded = self.encoder(x)\n",
        "        decoded = self.decoder(encoded)\n",
        "        return decoded\n",
        "\n"
      ],
      "metadata": {
        "id": "LPntFyCuu0xL"
      },
      "execution_count": 4,
      "outputs": []
    },
    {
      "cell_type": "code",
      "source": [
        "# Define hyperparameters\n",
        "input_dim = 13  # Number of MFCC coefficients\n",
        "latent_dim = 8\n",
        "batch_size = 64\n",
        "learning_rate = 0.001\n",
        "num_epochs = 20\n",
        "\n",
        "# Initialize autoencoder model\n",
        "device = torch.device(\"cuda\" if torch.cuda.is_available() else \"cpu\")\n",
        "model = Autoencoder(input_dim, latent_dim).to(device)\n",
        "\n",
        "# Define loss function and optimizer\n",
        "criterion = nn.MSELoss()\n",
        "optimizer = optim.Adam(model.parameters(), lr=learning_rate)\n"
      ],
      "metadata": {
        "id": "_7DD-6zzu-cs"
      },
      "execution_count": 5,
      "outputs": []
    },
    {
      "cell_type": "markdown",
      "source": [
        "### **Saving the .npy files generated by decoder and the latent space also.**"
      ],
      "metadata": {
        "id": "kdXRJmi1YXra"
      }
    },
    {
      "cell_type": "code",
      "source": [
        "import soundfile as sf\n",
        "# Directory to save generated samples\n",
        "sample_dir = '/content/drive/MyDrive/Librispeechdatatset/AE_generated_samples'\n",
        "sample_dir1='/content/drive/MyDrive/Librispeechdatatset/LatentSpaceFile'\n",
        "os.makedirs(sample_dir, exist_ok=True)\n",
        "\n",
        "# List to store latent space representations\n",
        "latent_space_representations = []\n",
        "\n",
        "# Training loop\n",
        "for epoch in range(num_epochs):\n",
        "    for mfcc_batch in dataset:\n",
        "        mfcc_batch = mfcc_batch.to(device)\n",
        "\n",
        "        # Reshape MFCC batch to match the input dimension\n",
        "        mfcc_batch = mfcc_batch.view(-1, input_dim)\n",
        "\n",
        "        # Zero the parameter gradients\n",
        "        optimizer.zero_grad()\n",
        "\n",
        "        # Forward pass\n",
        "        outputs = model(mfcc_batch)\n",
        "\n",
        "        # Compute loss and backpropagation\n",
        "        loss = criterion(outputs, mfcc_batch)\n",
        "        loss.backward()\n",
        "        optimizer.step()\n",
        "\n",
        "    print(f'Epoch [{epoch+1}/{num_epochs}], Loss: {loss.item():.4f}')\n",
        "\n",
        "    # Generate and save samples\n",
        "    with torch.no_grad():\n",
        "        sample_noise = torch.randn(5, latent_dim).to(device)\n",
        "        generated_samples = model.decoder(sample_noise)\n",
        "\n",
        "        #extracting latent space\n",
        "        encoded_samples = model.encoder(mfcc_batch)\n",
        "        latent_space_representations.append(encoded_samples.detach().cpu().numpy())\n",
        "\n",
        "        # Reshape generated samples back to MFCC format\n",
        "        generated_samples = generated_samples.view(-1, input_dim)\n",
        "\n",
        "        # Save generated samples as .npy files\n",
        "        for i, sample in enumerate(generated_samples):\n",
        "            sample_file = os.path.join(sample_dir, f'epoch_{epoch+1}_sample_{i}.npy')\n",
        "            np.save(sample_file, sample.cpu().numpy())\n",
        "\n",
        "\n",
        "# Convert the list of latent space representations to a numpy array\n",
        "latent_space_representations = np.concatenate(latent_space_representations, axis=0)\n",
        "\n",
        "# Save latent space representations as a numpy array\n",
        "latent_space_file = os.path.join(sample_dir1, 'latent_space.npy')\n",
        "np.save(latent_space_file, latent_space_representations)\n",
        "\n",
        "\n",
        "# Save trained autoencoder model\n",
        "torch.save(model.state_dict(), '/content/drive/MyDrive/Librispeechdatatset/Model/autoencoder_model.pth')"
      ],
      "metadata": {
        "colab": {
          "base_uri": "https://localhost:8080/"
        },
        "id": "RXDeLY2J5BBR",
        "outputId": "d7f2ba85-0d06-47c7-dcee-39b47c43f084"
      },
      "execution_count": 6,
      "outputs": [
        {
          "output_type": "stream",
          "name": "stdout",
          "text": [
            "Epoch [1/20], Loss: 10864.9209\n",
            "Epoch [2/20], Loss: 10864.7959\n",
            "Epoch [3/20], Loss: 10864.7939\n",
            "Epoch [4/20], Loss: 10864.8027\n",
            "Epoch [5/20], Loss: 10864.8105\n",
            "Epoch [6/20], Loss: 10864.8477\n",
            "Epoch [7/20], Loss: 10864.9658\n",
            "Epoch [8/20], Loss: 10864.8535\n",
            "Epoch [9/20], Loss: 10864.8271\n",
            "Epoch [10/20], Loss: 10864.8115\n",
            "Epoch [11/20], Loss: 10864.8301\n",
            "Epoch [12/20], Loss: 10864.8076\n",
            "Epoch [13/20], Loss: 10864.8467\n",
            "Epoch [14/20], Loss: 10864.7871\n",
            "Epoch [15/20], Loss: 10864.8271\n",
            "Epoch [16/20], Loss: 10864.8955\n",
            "Epoch [17/20], Loss: 10864.8330\n",
            "Epoch [18/20], Loss: 10864.8369\n",
            "Epoch [19/20], Loss: 10864.8271\n",
            "Epoch [20/20], Loss: 10864.8691\n"
          ]
        }
      ]
    },
    {
      "cell_type": "markdown",
      "source": [
        "# **Now Our Final GAN Model Will start.**"
      ],
      "metadata": {
        "id": "nz1NH9ENXdLB"
      }
    },
    {
      "cell_type": "markdown",
      "source": [
        "## **This File is for the latent space to train with generator and produce new samples, and discriminator with the Decoders output to descriminate with the generators output.**"
      ],
      "metadata": {
        "id": "HosbJJK4XX1B"
      }
    },
    {
      "cell_type": "markdown",
      "source": [
        "### **Loading the Mfcc data which was created by the AE Model.**"
      ],
      "metadata": {
        "id": "jrlBIaykXpQ2"
      }
    },
    {
      "cell_type": "code",
      "source": [
        "# Custom dataset class to load MFCC data from .npy files\n",
        "class MFCCDataset(Dataset):\n",
        "    def __init__(self, dataset_directory, max_seq_len):\n",
        "        self.data = []\n",
        "        self.max_seq_len = max_seq_len\n",
        "\n",
        "        for audio_file_name in os.listdir(dataset_directory):\n",
        "          if audio_file_name.endswith('.npy'):\n",
        "            # Load MFCC data from the .npy file\n",
        "            mfcc_data = np.load(os.path.join(dataset_directory, audio_file_name))\n",
        "            self.data.append(mfcc_data)\n",
        "\n",
        "        # Convert the list to a tensor after all data is collected\n",
        "        self.data = torch.tensor(self.data).float()\n",
        "\n",
        "\n",
        "    def __len__(self):\n",
        "        return len(self.data)\n",
        "\n",
        "    def __getitem__(self, idx):\n",
        "        return self.data[idx]\n",
        "\n",
        "# Set the path to the directory containing the .npy files generated by Autoencoder Model\n",
        "npy_directory = '/content/drive/MyDrive/Librispeechdatatset/AE_generated_samples'\n",
        "\n",
        "# Set the maximum sequence length for padding\n",
        "max_seq_len = 176\n",
        "\n",
        "# Load the dataset\n",
        "dataset = MFCCDataset(npy_directory, max_seq_len)"
      ],
      "metadata": {
        "id": "cyGSnUJ9XXlA"
      },
      "execution_count": 7,
      "outputs": []
    },
    {
      "cell_type": "markdown",
      "source": [
        "# **Loading the latent space data**"
      ],
      "metadata": {
        "id": "4xjNXN78Yhmo"
      }
    },
    {
      "cell_type": "code",
      "source": [
        "#load the latent space file.\n",
        "latent_space_file = '/content/drive/MyDrive/Librispeechdatatset/LatentSpaceFile/latent_space.npy'\n",
        "latent_space_representations = np.load(latent_space_file)"
      ],
      "metadata": {
        "id": "Y-R2V7RtYk8b"
      },
      "execution_count": 8,
      "outputs": []
    },
    {
      "cell_type": "markdown",
      "source": [
        "# **The Generator and the Discriminator module**"
      ],
      "metadata": {
        "id": "Pfz9H1RgYpxX"
      }
    },
    {
      "cell_type": "code",
      "source": [
        "class Generator(nn.Module):\n",
        "    def __init__(self, latent_dim, output_dim):\n",
        "        super(Generator, self).__init__()\n",
        "        self.latent_dim = latent_dim\n",
        "\n",
        "        self.model = nn.Sequential(\n",
        "            nn.Linear(latent_dim, 128),\n",
        "            nn.ReLU(),\n",
        "            nn.Linear(128, 256),\n",
        "            nn.ReLU(),\n",
        "            nn.Linear(256, output_dim),\n",
        "            nn.Tanh()  # Tanh activation to ensure generated values are within [-1, 1]\n",
        "        )\n",
        "\n",
        "    def forward(self, x):\n",
        "        return self.model(x)\n",
        "\n",
        "\n",
        "\n",
        "class Discriminator(nn.Module):\n",
        "    # Define your discriminator architecture here\n",
        "    def __init__(self, input_dim):\n",
        "        super(Discriminator, self).__init__()\n",
        "\n",
        "        # Define the discriminator architecture using nn.Sequential\n",
        "        self.model = nn.Sequential(\n",
        "            nn.Linear(input_dim, 512),        # Input layer: input_dim -> 512 units\n",
        "            nn.ReLU(True),                    # ReLU activation\n",
        "            nn.Linear(512, 256),              # Hidden layer: 512 units -> 256 units\n",
        "            nn.ReLU(True),                    # ReLU activation\n",
        "            nn.Linear(256, 1),                # Output layer: 256 units -> 1 unit (binary classification)\n",
        "            nn.Sigmoid()                      # Sigmoid activation for binary classification\n",
        "        )\n",
        "\n",
        "    def forward(self, x):\n",
        "        # Implement the forward pass for the discriminator\n",
        "        return self.model(x)\n"
      ],
      "metadata": {
        "id": "UGcZnr7MYrIJ"
      },
      "execution_count": 9,
      "outputs": []
    },
    {
      "cell_type": "markdown",
      "source": [
        "# **The Training loop and saving loop for saving the fresh data created by Gan(the final output)**"
      ],
      "metadata": {
        "id": "q0-9_rgxYuSG"
      }
    },
    {
      "cell_type": "code",
      "source": [
        "import soundfile as sf\n",
        "\n",
        "def compute_generator_loss(generated_data, real_data):\n",
        "    # Compute Mean Squared Error (MSE) loss between generated and real data\n",
        "    mse_loss = nn.MSELoss()\n",
        "    loss = mse_loss(generated_data, real_data)\n",
        "    return loss\n",
        "\n",
        "\n",
        "device = torch.device(\"cuda\" if torch.cuda.is_available() else \"cpu\")\n",
        "# Create DataLoaderdat\n",
        "dataloader = DataLoader(dataset, batch_size=64, shuffle=True, num_workers=4)\n",
        "\n",
        "# Initialize the generator\n",
        "# Define hyperparameters\n",
        "latent_dim = 8  # Dimensionality of the latent space\n",
        "output_dim = 13\n",
        "generator = Generator(latent_dim, output_dim)\n",
        "generator_optimizer = optim.Adam(generator.parameters(), lr=0.0002, betas=(0.5, 0.999))\n",
        "\n",
        "# Initialize discriminator\n",
        "discriminator = Discriminator(input_dim=13)  # Use the appropriate input dimension\n",
        "# Define optimizer for the discriminator\n",
        "discriminator_optimizer = optim.Adam(discriminator.parameters(), lr=0.0002, betas=(0.5, 0.999))\n",
        "\n",
        "\n",
        "criterion = nn.BCELoss()  # Binary Cross-Entropy loss for binary classification\n",
        "num_epochs=20\n",
        "batch_size=64\n",
        "\n",
        "\n",
        "# Training loop\n",
        "for epoch in range(num_epochs):\n",
        "    for real_mfcc_batch in dataloader:  # Your real data loader\n",
        "        real_mfcc_batch = real_mfcc_batch.to(device)\n",
        "\n",
        "\n",
        "\n",
        "        # Zero the discriminator parameter gradients\n",
        "        discriminator_optimizer.zero_grad()\n",
        "\n",
        "        # Train the discriminator with real data\n",
        "        real_labels = torch.ones(real_mfcc_batch.size(0), 1).to(device)  # Labels for real data\n",
        "        real_outputs = discriminator(real_mfcc_batch)\n",
        "\n",
        "        # Calculate the binary cross-entropy loss\n",
        "        real_labels_expanded = real_labels.expand_as(real_outputs)  # Expand the labels to match the shape of real_outputs\n",
        "        real_loss = criterion(real_outputs, real_labels_expanded)\n",
        "        real_loss.backward()\n",
        "\n",
        "        # Generate fake data using the generator (decoder)\n",
        "        # Randomly sample latent space representations\n",
        "        batch_indices = np.random.randint(len(latent_space_representations), size=batch_size)\n",
        "        batch_latent_space = latent_space_representations[batch_indices]\n",
        "\n",
        "        batch_latent_space = torch.randn(real_mfcc_batch.size(0), latent_dim).to(device)  # Match batch size\n",
        "        generated_data = generator(batch_latent_space)\n",
        "\n",
        "        # Reshape the generated data to match the shape of real MFCC batch\n",
        "        generated_data = generated_data.view(-1, output_dim)  # Match the appropriate dimension\n",
        "\n",
        "\n",
        "        # Update the generator using a loss that encourages the generated data to match the real data distribution in the latent space\n",
        "        generator_optimizer.zero_grad()\n",
        "        generator_loss = compute_generator_loss(generated_data, real_mfcc_batch)\n",
        "        generator_loss.backward()\n",
        "        generator_optimizer.step()\n",
        "\n",
        "        # Train the discriminator with generated data\n",
        "        fake_labels = torch.zeros(generated_data.size(0), 1).to(device)  # Labels for fake data\n",
        "        fake_outputs = discriminator(generated_data.detach())  # Detach to prevent gradients from propagating to the generator\n",
        "        fake_loss = criterion(fake_outputs, fake_labels)\n",
        "        fake_loss.backward()\n",
        "\n",
        "        # Update discriminator parameters\n",
        "        discriminator_optimizer.step()\n",
        "\n",
        "    print(f'Epoch [{epoch+1}/{num_epochs}], Discriminator Real Loss: {real_loss.item():.4f}, Discriminator Fake Loss: {fake_loss.item():.4f}')\n",
        "    generator.eval()\n",
        "    with torch.no_grad():\n",
        "        for i in range(10):\n",
        "            # Generate a random noise vector\n",
        "            noise = torch.randn(1, latent_dim).to(device)\n",
        "\n",
        "            # Generate fake data using the Generator\n",
        "            fake_mfcc = generator(noise).squeeze().cpu().numpy()\n",
        "\n",
        "            # Calculate the number of frames based on the MFCC shape\n",
        "            n_frames = fake_mfcc.shape[0] // 13  # Assuming each frame has 13 coefficients\n",
        "\n",
        "            # Reshape the fake MFCCs to the correct shape\n",
        "            fake_mfcc = fake_mfcc.reshape(13, n_frames)\n",
        "\n",
        "            # Convert MFCCs back to audio\n",
        "            fake_audio = librosa.feature.inverse.mfcc_to_audio(fake_mfcc.T)\n",
        "\n",
        "            # Save the generated audio sample\n",
        "            generated_sample_path = os.path.join(\"/content/drive/MyDrive/Librispeechdatatset/GAN_generated_samples\", f'generated_sample_epoch_{epoch+1}_{i+1}.wav')\n",
        "            sf.write(generated_sample_path, fake_audio, 16000)\n",
        "            print(f'Saved generated sample: {generated_sample_path}')\n",
        "\n",
        "    generator.train()"
      ],
      "metadata": {
        "colab": {
          "base_uri": "https://localhost:8080/"
        },
        "id": "NZ0PFZKbY1yb",
        "outputId": "8e56b376-042f-433b-e3f2-0282179e16a1"
      },
      "execution_count": 10,
      "outputs": [
        {
          "output_type": "stream",
          "name": "stderr",
          "text": [
            "/usr/local/lib/python3.10/dist-packages/torch/utils/data/dataloader.py:560: UserWarning: This DataLoader will create 4 worker processes in total. Our suggested max number of worker in current system is 2, which is smaller than what this DataLoader is going to create. Please be aware that excessive worker creation might get DataLoader running slow or even freeze, lower the worker number to avoid potential slowness/freeze if necessary.\n",
            "  warnings.warn(_create_warning_msg(\n"
          ]
        },
        {
          "output_type": "stream",
          "name": "stdout",
          "text": [
            "Epoch [1/20], Discriminator Real Loss: 0.7144, Discriminator Fake Loss: 0.6647\n",
            "Saved generated sample: /content/drive/MyDrive/Librispeechdatatset/GAN_generated_samples/generated_sample_epoch_1_1.wav\n",
            "Saved generated sample: /content/drive/MyDrive/Librispeechdatatset/GAN_generated_samples/generated_sample_epoch_1_2.wav\n",
            "Saved generated sample: /content/drive/MyDrive/Librispeechdatatset/GAN_generated_samples/generated_sample_epoch_1_3.wav\n",
            "Saved generated sample: /content/drive/MyDrive/Librispeechdatatset/GAN_generated_samples/generated_sample_epoch_1_4.wav\n",
            "Saved generated sample: /content/drive/MyDrive/Librispeechdatatset/GAN_generated_samples/generated_sample_epoch_1_5.wav\n",
            "Saved generated sample: /content/drive/MyDrive/Librispeechdatatset/GAN_generated_samples/generated_sample_epoch_1_6.wav\n",
            "Saved generated sample: /content/drive/MyDrive/Librispeechdatatset/GAN_generated_samples/generated_sample_epoch_1_7.wav\n",
            "Saved generated sample: /content/drive/MyDrive/Librispeechdatatset/GAN_generated_samples/generated_sample_epoch_1_8.wav\n",
            "Saved generated sample: /content/drive/MyDrive/Librispeechdatatset/GAN_generated_samples/generated_sample_epoch_1_9.wav\n",
            "Saved generated sample: /content/drive/MyDrive/Librispeechdatatset/GAN_generated_samples/generated_sample_epoch_1_10.wav\n"
          ]
        },
        {
          "output_type": "stream",
          "name": "stderr",
          "text": [
            "/usr/local/lib/python3.10/dist-packages/torch/utils/data/dataloader.py:560: UserWarning: This DataLoader will create 4 worker processes in total. Our suggested max number of worker in current system is 2, which is smaller than what this DataLoader is going to create. Please be aware that excessive worker creation might get DataLoader running slow or even freeze, lower the worker number to avoid potential slowness/freeze if necessary.\n",
            "  warnings.warn(_create_warning_msg(\n"
          ]
        },
        {
          "output_type": "stream",
          "name": "stdout",
          "text": [
            "Epoch [2/20], Discriminator Real Loss: 0.6523, Discriminator Fake Loss: 0.6720\n",
            "Saved generated sample: /content/drive/MyDrive/Librispeechdatatset/GAN_generated_samples/generated_sample_epoch_2_1.wav\n",
            "Saved generated sample: /content/drive/MyDrive/Librispeechdatatset/GAN_generated_samples/generated_sample_epoch_2_2.wav\n",
            "Saved generated sample: /content/drive/MyDrive/Librispeechdatatset/GAN_generated_samples/generated_sample_epoch_2_3.wav\n",
            "Saved generated sample: /content/drive/MyDrive/Librispeechdatatset/GAN_generated_samples/generated_sample_epoch_2_4.wav\n",
            "Saved generated sample: /content/drive/MyDrive/Librispeechdatatset/GAN_generated_samples/generated_sample_epoch_2_5.wav\n",
            "Saved generated sample: /content/drive/MyDrive/Librispeechdatatset/GAN_generated_samples/generated_sample_epoch_2_6.wav\n",
            "Saved generated sample: /content/drive/MyDrive/Librispeechdatatset/GAN_generated_samples/generated_sample_epoch_2_7.wav\n",
            "Saved generated sample: /content/drive/MyDrive/Librispeechdatatset/GAN_generated_samples/generated_sample_epoch_2_8.wav\n",
            "Saved generated sample: /content/drive/MyDrive/Librispeechdatatset/GAN_generated_samples/generated_sample_epoch_2_9.wav\n",
            "Saved generated sample: /content/drive/MyDrive/Librispeechdatatset/GAN_generated_samples/generated_sample_epoch_2_10.wav\n",
            "Epoch [3/20], Discriminator Real Loss: 0.6140, Discriminator Fake Loss: 0.6769\n",
            "Saved generated sample: /content/drive/MyDrive/Librispeechdatatset/GAN_generated_samples/generated_sample_epoch_3_1.wav\n",
            "Saved generated sample: /content/drive/MyDrive/Librispeechdatatset/GAN_generated_samples/generated_sample_epoch_3_2.wav\n",
            "Saved generated sample: /content/drive/MyDrive/Librispeechdatatset/GAN_generated_samples/generated_sample_epoch_3_3.wav\n",
            "Saved generated sample: /content/drive/MyDrive/Librispeechdatatset/GAN_generated_samples/generated_sample_epoch_3_4.wav\n",
            "Saved generated sample: /content/drive/MyDrive/Librispeechdatatset/GAN_generated_samples/generated_sample_epoch_3_5.wav\n",
            "Saved generated sample: /content/drive/MyDrive/Librispeechdatatset/GAN_generated_samples/generated_sample_epoch_3_6.wav\n",
            "Saved generated sample: /content/drive/MyDrive/Librispeechdatatset/GAN_generated_samples/generated_sample_epoch_3_7.wav\n",
            "Saved generated sample: /content/drive/MyDrive/Librispeechdatatset/GAN_generated_samples/generated_sample_epoch_3_8.wav\n",
            "Saved generated sample: /content/drive/MyDrive/Librispeechdatatset/GAN_generated_samples/generated_sample_epoch_3_9.wav\n",
            "Saved generated sample: /content/drive/MyDrive/Librispeechdatatset/GAN_generated_samples/generated_sample_epoch_3_10.wav\n",
            "Epoch [4/20], Discriminator Real Loss: 0.5771, Discriminator Fake Loss: 0.6842\n",
            "Saved generated sample: /content/drive/MyDrive/Librispeechdatatset/GAN_generated_samples/generated_sample_epoch_4_1.wav\n",
            "Saved generated sample: /content/drive/MyDrive/Librispeechdatatset/GAN_generated_samples/generated_sample_epoch_4_2.wav\n",
            "Saved generated sample: /content/drive/MyDrive/Librispeechdatatset/GAN_generated_samples/generated_sample_epoch_4_3.wav\n",
            "Saved generated sample: /content/drive/MyDrive/Librispeechdatatset/GAN_generated_samples/generated_sample_epoch_4_4.wav\n",
            "Saved generated sample: /content/drive/MyDrive/Librispeechdatatset/GAN_generated_samples/generated_sample_epoch_4_5.wav\n",
            "Saved generated sample: /content/drive/MyDrive/Librispeechdatatset/GAN_generated_samples/generated_sample_epoch_4_6.wav\n",
            "Saved generated sample: /content/drive/MyDrive/Librispeechdatatset/GAN_generated_samples/generated_sample_epoch_4_7.wav\n",
            "Saved generated sample: /content/drive/MyDrive/Librispeechdatatset/GAN_generated_samples/generated_sample_epoch_4_8.wav\n",
            "Saved generated sample: /content/drive/MyDrive/Librispeechdatatset/GAN_generated_samples/generated_sample_epoch_4_9.wav\n",
            "Saved generated sample: /content/drive/MyDrive/Librispeechdatatset/GAN_generated_samples/generated_sample_epoch_4_10.wav\n",
            "Epoch [5/20], Discriminator Real Loss: 0.5321, Discriminator Fake Loss: 0.6928\n",
            "Saved generated sample: /content/drive/MyDrive/Librispeechdatatset/GAN_generated_samples/generated_sample_epoch_5_1.wav\n",
            "Saved generated sample: /content/drive/MyDrive/Librispeechdatatset/GAN_generated_samples/generated_sample_epoch_5_2.wav\n",
            "Saved generated sample: /content/drive/MyDrive/Librispeechdatatset/GAN_generated_samples/generated_sample_epoch_5_3.wav\n",
            "Saved generated sample: /content/drive/MyDrive/Librispeechdatatset/GAN_generated_samples/generated_sample_epoch_5_4.wav\n",
            "Saved generated sample: /content/drive/MyDrive/Librispeechdatatset/GAN_generated_samples/generated_sample_epoch_5_5.wav\n",
            "Saved generated sample: /content/drive/MyDrive/Librispeechdatatset/GAN_generated_samples/generated_sample_epoch_5_6.wav\n",
            "Saved generated sample: /content/drive/MyDrive/Librispeechdatatset/GAN_generated_samples/generated_sample_epoch_5_7.wav\n",
            "Saved generated sample: /content/drive/MyDrive/Librispeechdatatset/GAN_generated_samples/generated_sample_epoch_5_8.wav\n",
            "Saved generated sample: /content/drive/MyDrive/Librispeechdatatset/GAN_generated_samples/generated_sample_epoch_5_9.wav\n",
            "Saved generated sample: /content/drive/MyDrive/Librispeechdatatset/GAN_generated_samples/generated_sample_epoch_5_10.wav\n",
            "Epoch [6/20], Discriminator Real Loss: 0.4982, Discriminator Fake Loss: 0.7003\n",
            "Saved generated sample: /content/drive/MyDrive/Librispeechdatatset/GAN_generated_samples/generated_sample_epoch_6_1.wav\n",
            "Saved generated sample: /content/drive/MyDrive/Librispeechdatatset/GAN_generated_samples/generated_sample_epoch_6_2.wav\n",
            "Saved generated sample: /content/drive/MyDrive/Librispeechdatatset/GAN_generated_samples/generated_sample_epoch_6_3.wav\n",
            "Saved generated sample: /content/drive/MyDrive/Librispeechdatatset/GAN_generated_samples/generated_sample_epoch_6_4.wav\n",
            "Saved generated sample: /content/drive/MyDrive/Librispeechdatatset/GAN_generated_samples/generated_sample_epoch_6_5.wav\n",
            "Saved generated sample: /content/drive/MyDrive/Librispeechdatatset/GAN_generated_samples/generated_sample_epoch_6_6.wav\n",
            "Saved generated sample: /content/drive/MyDrive/Librispeechdatatset/GAN_generated_samples/generated_sample_epoch_6_7.wav\n",
            "Saved generated sample: /content/drive/MyDrive/Librispeechdatatset/GAN_generated_samples/generated_sample_epoch_6_8.wav\n",
            "Saved generated sample: /content/drive/MyDrive/Librispeechdatatset/GAN_generated_samples/generated_sample_epoch_6_9.wav\n",
            "Saved generated sample: /content/drive/MyDrive/Librispeechdatatset/GAN_generated_samples/generated_sample_epoch_6_10.wav\n",
            "Epoch [7/20], Discriminator Real Loss: 0.4833, Discriminator Fake Loss: 0.7097\n",
            "Saved generated sample: /content/drive/MyDrive/Librispeechdatatset/GAN_generated_samples/generated_sample_epoch_7_1.wav\n",
            "Saved generated sample: /content/drive/MyDrive/Librispeechdatatset/GAN_generated_samples/generated_sample_epoch_7_2.wav\n",
            "Saved generated sample: /content/drive/MyDrive/Librispeechdatatset/GAN_generated_samples/generated_sample_epoch_7_3.wav\n",
            "Saved generated sample: /content/drive/MyDrive/Librispeechdatatset/GAN_generated_samples/generated_sample_epoch_7_4.wav\n",
            "Saved generated sample: /content/drive/MyDrive/Librispeechdatatset/GAN_generated_samples/generated_sample_epoch_7_5.wav\n",
            "Saved generated sample: /content/drive/MyDrive/Librispeechdatatset/GAN_generated_samples/generated_sample_epoch_7_6.wav\n",
            "Saved generated sample: /content/drive/MyDrive/Librispeechdatatset/GAN_generated_samples/generated_sample_epoch_7_7.wav\n",
            "Saved generated sample: /content/drive/MyDrive/Librispeechdatatset/GAN_generated_samples/generated_sample_epoch_7_8.wav\n",
            "Saved generated sample: /content/drive/MyDrive/Librispeechdatatset/GAN_generated_samples/generated_sample_epoch_7_9.wav\n",
            "Saved generated sample: /content/drive/MyDrive/Librispeechdatatset/GAN_generated_samples/generated_sample_epoch_7_10.wav\n",
            "Epoch [8/20], Discriminator Real Loss: 0.4750, Discriminator Fake Loss: 0.7085\n",
            "Saved generated sample: /content/drive/MyDrive/Librispeechdatatset/GAN_generated_samples/generated_sample_epoch_8_1.wav\n",
            "Saved generated sample: /content/drive/MyDrive/Librispeechdatatset/GAN_generated_samples/generated_sample_epoch_8_2.wav\n",
            "Saved generated sample: /content/drive/MyDrive/Librispeechdatatset/GAN_generated_samples/generated_sample_epoch_8_3.wav\n",
            "Saved generated sample: /content/drive/MyDrive/Librispeechdatatset/GAN_generated_samples/generated_sample_epoch_8_4.wav\n",
            "Saved generated sample: /content/drive/MyDrive/Librispeechdatatset/GAN_generated_samples/generated_sample_epoch_8_5.wav\n",
            "Saved generated sample: /content/drive/MyDrive/Librispeechdatatset/GAN_generated_samples/generated_sample_epoch_8_6.wav\n",
            "Saved generated sample: /content/drive/MyDrive/Librispeechdatatset/GAN_generated_samples/generated_sample_epoch_8_7.wav\n",
            "Saved generated sample: /content/drive/MyDrive/Librispeechdatatset/GAN_generated_samples/generated_sample_epoch_8_8.wav\n",
            "Saved generated sample: /content/drive/MyDrive/Librispeechdatatset/GAN_generated_samples/generated_sample_epoch_8_9.wav\n",
            "Saved generated sample: /content/drive/MyDrive/Librispeechdatatset/GAN_generated_samples/generated_sample_epoch_8_10.wav\n",
            "Epoch [9/20], Discriminator Real Loss: 0.4712, Discriminator Fake Loss: 0.7054\n",
            "Saved generated sample: /content/drive/MyDrive/Librispeechdatatset/GAN_generated_samples/generated_sample_epoch_9_1.wav\n",
            "Saved generated sample: /content/drive/MyDrive/Librispeechdatatset/GAN_generated_samples/generated_sample_epoch_9_2.wav\n",
            "Saved generated sample: /content/drive/MyDrive/Librispeechdatatset/GAN_generated_samples/generated_sample_epoch_9_3.wav\n",
            "Saved generated sample: /content/drive/MyDrive/Librispeechdatatset/GAN_generated_samples/generated_sample_epoch_9_4.wav\n",
            "Saved generated sample: /content/drive/MyDrive/Librispeechdatatset/GAN_generated_samples/generated_sample_epoch_9_5.wav\n",
            "Saved generated sample: /content/drive/MyDrive/Librispeechdatatset/GAN_generated_samples/generated_sample_epoch_9_6.wav\n",
            "Saved generated sample: /content/drive/MyDrive/Librispeechdatatset/GAN_generated_samples/generated_sample_epoch_9_7.wav\n",
            "Saved generated sample: /content/drive/MyDrive/Librispeechdatatset/GAN_generated_samples/generated_sample_epoch_9_8.wav\n",
            "Saved generated sample: /content/drive/MyDrive/Librispeechdatatset/GAN_generated_samples/generated_sample_epoch_9_9.wav\n",
            "Saved generated sample: /content/drive/MyDrive/Librispeechdatatset/GAN_generated_samples/generated_sample_epoch_9_10.wav\n",
            "Epoch [10/20], Discriminator Real Loss: 0.4429, Discriminator Fake Loss: 0.7094\n",
            "Saved generated sample: /content/drive/MyDrive/Librispeechdatatset/GAN_generated_samples/generated_sample_epoch_10_1.wav\n",
            "Saved generated sample: /content/drive/MyDrive/Librispeechdatatset/GAN_generated_samples/generated_sample_epoch_10_2.wav\n",
            "Saved generated sample: /content/drive/MyDrive/Librispeechdatatset/GAN_generated_samples/generated_sample_epoch_10_3.wav\n",
            "Saved generated sample: /content/drive/MyDrive/Librispeechdatatset/GAN_generated_samples/generated_sample_epoch_10_4.wav\n",
            "Saved generated sample: /content/drive/MyDrive/Librispeechdatatset/GAN_generated_samples/generated_sample_epoch_10_5.wav\n",
            "Saved generated sample: /content/drive/MyDrive/Librispeechdatatset/GAN_generated_samples/generated_sample_epoch_10_6.wav\n",
            "Saved generated sample: /content/drive/MyDrive/Librispeechdatatset/GAN_generated_samples/generated_sample_epoch_10_7.wav\n",
            "Saved generated sample: /content/drive/MyDrive/Librispeechdatatset/GAN_generated_samples/generated_sample_epoch_10_8.wav\n",
            "Saved generated sample: /content/drive/MyDrive/Librispeechdatatset/GAN_generated_samples/generated_sample_epoch_10_9.wav\n",
            "Saved generated sample: /content/drive/MyDrive/Librispeechdatatset/GAN_generated_samples/generated_sample_epoch_10_10.wav\n",
            "Epoch [11/20], Discriminator Real Loss: 0.4539, Discriminator Fake Loss: 0.7114\n",
            "Saved generated sample: /content/drive/MyDrive/Librispeechdatatset/GAN_generated_samples/generated_sample_epoch_11_1.wav\n",
            "Saved generated sample: /content/drive/MyDrive/Librispeechdatatset/GAN_generated_samples/generated_sample_epoch_11_2.wav\n",
            "Saved generated sample: /content/drive/MyDrive/Librispeechdatatset/GAN_generated_samples/generated_sample_epoch_11_3.wav\n",
            "Saved generated sample: /content/drive/MyDrive/Librispeechdatatset/GAN_generated_samples/generated_sample_epoch_11_4.wav\n",
            "Saved generated sample: /content/drive/MyDrive/Librispeechdatatset/GAN_generated_samples/generated_sample_epoch_11_5.wav\n",
            "Saved generated sample: /content/drive/MyDrive/Librispeechdatatset/GAN_generated_samples/generated_sample_epoch_11_6.wav\n",
            "Saved generated sample: /content/drive/MyDrive/Librispeechdatatset/GAN_generated_samples/generated_sample_epoch_11_7.wav\n",
            "Saved generated sample: /content/drive/MyDrive/Librispeechdatatset/GAN_generated_samples/generated_sample_epoch_11_8.wav\n",
            "Saved generated sample: /content/drive/MyDrive/Librispeechdatatset/GAN_generated_samples/generated_sample_epoch_11_9.wav\n",
            "Saved generated sample: /content/drive/MyDrive/Librispeechdatatset/GAN_generated_samples/generated_sample_epoch_11_10.wav\n",
            "Epoch [12/20], Discriminator Real Loss: 0.4346, Discriminator Fake Loss: 0.7005\n",
            "Saved generated sample: /content/drive/MyDrive/Librispeechdatatset/GAN_generated_samples/generated_sample_epoch_12_1.wav\n",
            "Saved generated sample: /content/drive/MyDrive/Librispeechdatatset/GAN_generated_samples/generated_sample_epoch_12_2.wav\n",
            "Saved generated sample: /content/drive/MyDrive/Librispeechdatatset/GAN_generated_samples/generated_sample_epoch_12_3.wav\n",
            "Saved generated sample: /content/drive/MyDrive/Librispeechdatatset/GAN_generated_samples/generated_sample_epoch_12_4.wav\n",
            "Saved generated sample: /content/drive/MyDrive/Librispeechdatatset/GAN_generated_samples/generated_sample_epoch_12_5.wav\n",
            "Saved generated sample: /content/drive/MyDrive/Librispeechdatatset/GAN_generated_samples/generated_sample_epoch_12_6.wav\n",
            "Saved generated sample: /content/drive/MyDrive/Librispeechdatatset/GAN_generated_samples/generated_sample_epoch_12_7.wav\n",
            "Saved generated sample: /content/drive/MyDrive/Librispeechdatatset/GAN_generated_samples/generated_sample_epoch_12_8.wav\n",
            "Saved generated sample: /content/drive/MyDrive/Librispeechdatatset/GAN_generated_samples/generated_sample_epoch_12_9.wav\n",
            "Saved generated sample: /content/drive/MyDrive/Librispeechdatatset/GAN_generated_samples/generated_sample_epoch_12_10.wav\n",
            "Epoch [13/20], Discriminator Real Loss: 0.4594, Discriminator Fake Loss: 0.7089\n",
            "Saved generated sample: /content/drive/MyDrive/Librispeechdatatset/GAN_generated_samples/generated_sample_epoch_13_1.wav\n",
            "Saved generated sample: /content/drive/MyDrive/Librispeechdatatset/GAN_generated_samples/generated_sample_epoch_13_2.wav\n",
            "Saved generated sample: /content/drive/MyDrive/Librispeechdatatset/GAN_generated_samples/generated_sample_epoch_13_3.wav\n",
            "Saved generated sample: /content/drive/MyDrive/Librispeechdatatset/GAN_generated_samples/generated_sample_epoch_13_4.wav\n",
            "Saved generated sample: /content/drive/MyDrive/Librispeechdatatset/GAN_generated_samples/generated_sample_epoch_13_5.wav\n",
            "Saved generated sample: /content/drive/MyDrive/Librispeechdatatset/GAN_generated_samples/generated_sample_epoch_13_6.wav\n",
            "Saved generated sample: /content/drive/MyDrive/Librispeechdatatset/GAN_generated_samples/generated_sample_epoch_13_7.wav\n",
            "Saved generated sample: /content/drive/MyDrive/Librispeechdatatset/GAN_generated_samples/generated_sample_epoch_13_8.wav\n",
            "Saved generated sample: /content/drive/MyDrive/Librispeechdatatset/GAN_generated_samples/generated_sample_epoch_13_9.wav\n",
            "Saved generated sample: /content/drive/MyDrive/Librispeechdatatset/GAN_generated_samples/generated_sample_epoch_13_10.wav\n",
            "Epoch [14/20], Discriminator Real Loss: 0.4294, Discriminator Fake Loss: 0.7015\n",
            "Saved generated sample: /content/drive/MyDrive/Librispeechdatatset/GAN_generated_samples/generated_sample_epoch_14_1.wav\n",
            "Saved generated sample: /content/drive/MyDrive/Librispeechdatatset/GAN_generated_samples/generated_sample_epoch_14_2.wav\n",
            "Saved generated sample: /content/drive/MyDrive/Librispeechdatatset/GAN_generated_samples/generated_sample_epoch_14_3.wav\n",
            "Saved generated sample: /content/drive/MyDrive/Librispeechdatatset/GAN_generated_samples/generated_sample_epoch_14_4.wav\n",
            "Saved generated sample: /content/drive/MyDrive/Librispeechdatatset/GAN_generated_samples/generated_sample_epoch_14_5.wav\n",
            "Saved generated sample: /content/drive/MyDrive/Librispeechdatatset/GAN_generated_samples/generated_sample_epoch_14_6.wav\n",
            "Saved generated sample: /content/drive/MyDrive/Librispeechdatatset/GAN_generated_samples/generated_sample_epoch_14_7.wav\n",
            "Saved generated sample: /content/drive/MyDrive/Librispeechdatatset/GAN_generated_samples/generated_sample_epoch_14_8.wav\n",
            "Saved generated sample: /content/drive/MyDrive/Librispeechdatatset/GAN_generated_samples/generated_sample_epoch_14_9.wav\n",
            "Saved generated sample: /content/drive/MyDrive/Librispeechdatatset/GAN_generated_samples/generated_sample_epoch_14_10.wav\n",
            "Epoch [15/20], Discriminator Real Loss: 0.4667, Discriminator Fake Loss: 0.6670\n",
            "Saved generated sample: /content/drive/MyDrive/Librispeechdatatset/GAN_generated_samples/generated_sample_epoch_15_1.wav\n",
            "Saved generated sample: /content/drive/MyDrive/Librispeechdatatset/GAN_generated_samples/generated_sample_epoch_15_2.wav\n",
            "Saved generated sample: /content/drive/MyDrive/Librispeechdatatset/GAN_generated_samples/generated_sample_epoch_15_3.wav\n",
            "Saved generated sample: /content/drive/MyDrive/Librispeechdatatset/GAN_generated_samples/generated_sample_epoch_15_4.wav\n",
            "Saved generated sample: /content/drive/MyDrive/Librispeechdatatset/GAN_generated_samples/generated_sample_epoch_15_5.wav\n",
            "Saved generated sample: /content/drive/MyDrive/Librispeechdatatset/GAN_generated_samples/generated_sample_epoch_15_6.wav\n",
            "Saved generated sample: /content/drive/MyDrive/Librispeechdatatset/GAN_generated_samples/generated_sample_epoch_15_7.wav\n",
            "Saved generated sample: /content/drive/MyDrive/Librispeechdatatset/GAN_generated_samples/generated_sample_epoch_15_8.wav\n",
            "Saved generated sample: /content/drive/MyDrive/Librispeechdatatset/GAN_generated_samples/generated_sample_epoch_15_9.wav\n",
            "Saved generated sample: /content/drive/MyDrive/Librispeechdatatset/GAN_generated_samples/generated_sample_epoch_15_10.wav\n",
            "Epoch [16/20], Discriminator Real Loss: 0.4572, Discriminator Fake Loss: 0.6543\n",
            "Saved generated sample: /content/drive/MyDrive/Librispeechdatatset/GAN_generated_samples/generated_sample_epoch_16_1.wav\n",
            "Saved generated sample: /content/drive/MyDrive/Librispeechdatatset/GAN_generated_samples/generated_sample_epoch_16_2.wav\n",
            "Saved generated sample: /content/drive/MyDrive/Librispeechdatatset/GAN_generated_samples/generated_sample_epoch_16_3.wav\n",
            "Saved generated sample: /content/drive/MyDrive/Librispeechdatatset/GAN_generated_samples/generated_sample_epoch_16_4.wav\n",
            "Saved generated sample: /content/drive/MyDrive/Librispeechdatatset/GAN_generated_samples/generated_sample_epoch_16_5.wav\n",
            "Saved generated sample: /content/drive/MyDrive/Librispeechdatatset/GAN_generated_samples/generated_sample_epoch_16_6.wav\n",
            "Saved generated sample: /content/drive/MyDrive/Librispeechdatatset/GAN_generated_samples/generated_sample_epoch_16_7.wav\n",
            "Saved generated sample: /content/drive/MyDrive/Librispeechdatatset/GAN_generated_samples/generated_sample_epoch_16_8.wav\n",
            "Saved generated sample: /content/drive/MyDrive/Librispeechdatatset/GAN_generated_samples/generated_sample_epoch_16_9.wav\n",
            "Saved generated sample: /content/drive/MyDrive/Librispeechdatatset/GAN_generated_samples/generated_sample_epoch_16_10.wav\n",
            "Epoch [17/20], Discriminator Real Loss: 0.4590, Discriminator Fake Loss: 0.6524\n",
            "Saved generated sample: /content/drive/MyDrive/Librispeechdatatset/GAN_generated_samples/generated_sample_epoch_17_1.wav\n",
            "Saved generated sample: /content/drive/MyDrive/Librispeechdatatset/GAN_generated_samples/generated_sample_epoch_17_2.wav\n",
            "Saved generated sample: /content/drive/MyDrive/Librispeechdatatset/GAN_generated_samples/generated_sample_epoch_17_3.wav\n",
            "Saved generated sample: /content/drive/MyDrive/Librispeechdatatset/GAN_generated_samples/generated_sample_epoch_17_4.wav\n",
            "Saved generated sample: /content/drive/MyDrive/Librispeechdatatset/GAN_generated_samples/generated_sample_epoch_17_5.wav\n",
            "Saved generated sample: /content/drive/MyDrive/Librispeechdatatset/GAN_generated_samples/generated_sample_epoch_17_6.wav\n",
            "Saved generated sample: /content/drive/MyDrive/Librispeechdatatset/GAN_generated_samples/generated_sample_epoch_17_7.wav\n",
            "Saved generated sample: /content/drive/MyDrive/Librispeechdatatset/GAN_generated_samples/generated_sample_epoch_17_8.wav\n",
            "Saved generated sample: /content/drive/MyDrive/Librispeechdatatset/GAN_generated_samples/generated_sample_epoch_17_9.wav\n",
            "Saved generated sample: /content/drive/MyDrive/Librispeechdatatset/GAN_generated_samples/generated_sample_epoch_17_10.wav\n",
            "Epoch [18/20], Discriminator Real Loss: 0.4488, Discriminator Fake Loss: 0.6439\n",
            "Saved generated sample: /content/drive/MyDrive/Librispeechdatatset/GAN_generated_samples/generated_sample_epoch_18_1.wav\n",
            "Saved generated sample: /content/drive/MyDrive/Librispeechdatatset/GAN_generated_samples/generated_sample_epoch_18_2.wav\n",
            "Saved generated sample: /content/drive/MyDrive/Librispeechdatatset/GAN_generated_samples/generated_sample_epoch_18_3.wav\n",
            "Saved generated sample: /content/drive/MyDrive/Librispeechdatatset/GAN_generated_samples/generated_sample_epoch_18_4.wav\n",
            "Saved generated sample: /content/drive/MyDrive/Librispeechdatatset/GAN_generated_samples/generated_sample_epoch_18_5.wav\n",
            "Saved generated sample: /content/drive/MyDrive/Librispeechdatatset/GAN_generated_samples/generated_sample_epoch_18_6.wav\n",
            "Saved generated sample: /content/drive/MyDrive/Librispeechdatatset/GAN_generated_samples/generated_sample_epoch_18_7.wav\n",
            "Saved generated sample: /content/drive/MyDrive/Librispeechdatatset/GAN_generated_samples/generated_sample_epoch_18_8.wav\n",
            "Saved generated sample: /content/drive/MyDrive/Librispeechdatatset/GAN_generated_samples/generated_sample_epoch_18_9.wav\n",
            "Saved generated sample: /content/drive/MyDrive/Librispeechdatatset/GAN_generated_samples/generated_sample_epoch_18_10.wav\n",
            "Epoch [19/20], Discriminator Real Loss: 0.4610, Discriminator Fake Loss: 0.6286\n",
            "Saved generated sample: /content/drive/MyDrive/Librispeechdatatset/GAN_generated_samples/generated_sample_epoch_19_1.wav\n",
            "Saved generated sample: /content/drive/MyDrive/Librispeechdatatset/GAN_generated_samples/generated_sample_epoch_19_2.wav\n",
            "Saved generated sample: /content/drive/MyDrive/Librispeechdatatset/GAN_generated_samples/generated_sample_epoch_19_3.wav\n",
            "Saved generated sample: /content/drive/MyDrive/Librispeechdatatset/GAN_generated_samples/generated_sample_epoch_19_4.wav\n",
            "Saved generated sample: /content/drive/MyDrive/Librispeechdatatset/GAN_generated_samples/generated_sample_epoch_19_5.wav\n",
            "Saved generated sample: /content/drive/MyDrive/Librispeechdatatset/GAN_generated_samples/generated_sample_epoch_19_6.wav\n",
            "Saved generated sample: /content/drive/MyDrive/Librispeechdatatset/GAN_generated_samples/generated_sample_epoch_19_7.wav\n",
            "Saved generated sample: /content/drive/MyDrive/Librispeechdatatset/GAN_generated_samples/generated_sample_epoch_19_8.wav\n",
            "Saved generated sample: /content/drive/MyDrive/Librispeechdatatset/GAN_generated_samples/generated_sample_epoch_19_9.wav\n",
            "Saved generated sample: /content/drive/MyDrive/Librispeechdatatset/GAN_generated_samples/generated_sample_epoch_19_10.wav\n",
            "Epoch [20/20], Discriminator Real Loss: 0.4964, Discriminator Fake Loss: 0.6049\n",
            "Saved generated sample: /content/drive/MyDrive/Librispeechdatatset/GAN_generated_samples/generated_sample_epoch_20_1.wav\n",
            "Saved generated sample: /content/drive/MyDrive/Librispeechdatatset/GAN_generated_samples/generated_sample_epoch_20_2.wav\n",
            "Saved generated sample: /content/drive/MyDrive/Librispeechdatatset/GAN_generated_samples/generated_sample_epoch_20_3.wav\n",
            "Saved generated sample: /content/drive/MyDrive/Librispeechdatatset/GAN_generated_samples/generated_sample_epoch_20_4.wav\n",
            "Saved generated sample: /content/drive/MyDrive/Librispeechdatatset/GAN_generated_samples/generated_sample_epoch_20_5.wav\n",
            "Saved generated sample: /content/drive/MyDrive/Librispeechdatatset/GAN_generated_samples/generated_sample_epoch_20_6.wav\n",
            "Saved generated sample: /content/drive/MyDrive/Librispeechdatatset/GAN_generated_samples/generated_sample_epoch_20_7.wav\n",
            "Saved generated sample: /content/drive/MyDrive/Librispeechdatatset/GAN_generated_samples/generated_sample_epoch_20_8.wav\n",
            "Saved generated sample: /content/drive/MyDrive/Librispeechdatatset/GAN_generated_samples/generated_sample_epoch_20_9.wav\n",
            "Saved generated sample: /content/drive/MyDrive/Librispeechdatatset/GAN_generated_samples/generated_sample_epoch_20_10.wav\n"
          ]
        }
      ]
    },
    {
      "cell_type": "markdown",
      "source": [
        "# **Visualization of a sample data created by our GAN.**"
      ],
      "metadata": {
        "id": "v4Pq0dYZY3Ii"
      }
    },
    {
      "cell_type": "code",
      "source": [
        "import matplotlib.pyplot as plt\n",
        "import librosa.display\n",
        "\n",
        "# Load a generated audio sample\n",
        "sample_path = \"/content/drive/MyDrive/Librispeechdatatset/GAN_generated_samples/generated_sample_epoch_1_1.wav\"\n",
        "audio, _ = librosa.load(sample_path, sr=16000)\n",
        "\n",
        "# Plot the waveform\n",
        "plt.figure(figsize=(10, 4))\n",
        "librosa.display.waveshow(audio, sr=16000)\n",
        "plt.title(\"Generated Audio Waveform\")\n",
        "plt.xlabel(\"Time (s)\")\n",
        "plt.ylabel(\"Amplitude\")\n",
        "plt.show()\n",
        "\n",
        "# Plot the spectrogram\n",
        "plt.figure(figsize=(10, 4))\n",
        "spec = librosa.amplitude_to_db(librosa.stft(audio), ref=np.max)\n",
        "librosa.display.specshow(spec, sr=16000, x_axis='time', y_axis='log')\n",
        "plt.colorbar(format='%+2.0f dB')\n",
        "plt.title(\"Generated Audio Spectrogram\")\n",
        "plt.xlabel(\"Time (s)\")\n",
        "plt.ylabel(\"Frequency (Hz)\")\n",
        "plt.show()"
      ],
      "metadata": {
        "colab": {
          "base_uri": "https://localhost:8080/",
          "height": 859
        },
        "id": "hPiKUifIY7DM",
        "outputId": "fae3d129-d769-41fe-d494-a6d5e2d4d1db"
      },
      "execution_count": 11,
      "outputs": [
        {
          "output_type": "display_data",
          "data": {
            "text/plain": [
              "<Figure size 1000x400 with 1 Axes>"
            ],
            "image/png": "[encoded data removed]"
          },
          "metadata": {}
        },
        {
          "output_type": "stream",
          "name": "stderr",
          "text": [
            "<ipython-input-11-e1668e8e659c>:18: UserWarning: amplitude_to_db was called on complex input so phase information will be discarded. To suppress this warning, call amplitude_to_db(np.abs(S)) instead.\n",
            "  spec = librosa.amplitude_to_db(librosa.stft(audio), ref=np.max)\n"
          ]
        },
        {
          "output_type": "display_data",
          "data": {
            "text/plain": [
              "<Figure size 1000x400 with 2 Axes>"
            ],
            "image/png": "[encoded data removed]"
          },
          "metadata": {}
        }
      ]
    }
  ]
}